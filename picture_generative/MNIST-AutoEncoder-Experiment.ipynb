{
 "cells": [
  {
   "cell_type": "code",
   "execution_count": 2,
   "metadata": {},
   "outputs": [],
   "source": [
    "from tensorflow.keras.models import Model\n",
    "from tensorflow.keras.layers import Dense, Conv2D, Conv2DTranspose, LeakyReLU, Softmax, Dropout\n",
    "from tensorflow.keras.layers import BatchNormalization, Input, Reshape, Activation, Flatten\n",
    "from tensorflow.keras.datasets import mnist\n",
    "from tensorflow.keras.utils import to_categorical, plot_model\n",
    "from tensorflow.keras import backend as K\n",
    "from tensorflow.keras.optimizers import Adam\n",
    "import matplotlib.pyplot as plt\n",
    "import numpy as np"
   ]
  },
  {
   "cell_type": "code",
   "execution_count": 3,
   "metadata": {},
   "outputs": [],
   "source": [
    "#load cifar10 dataset\n",
    "(x_train, y_train), (x_test, y_test) = mnist.load_data()\n",
    "\n",
    "#convert labels to one hot encodings\n",
    "y_train = to_categorical(y_train)\n",
    "y_test = to_categorical(y_test)\n",
    "\n",
    "#normalize the data\n",
    "x_train = x_train/255.0\n",
    "x_test = x_test/255.0\n",
    "x_train = x_train.reshape(x_train.shape + (1,))\n",
    "x_test = x_test.reshape(x_test.shape + (1,))"
   ]
  },
  {
   "cell_type": "code",
   "execution_count": 4,
   "metadata": {},
   "outputs": [],
   "source": [
    "#build a generic Auto Encoder class that can take number of layers and their para,eters as input and return an AE model\n",
    "\n",
    "class AutoEncoder():\n",
    "    def __init__(self,\n",
    "                 input_shape,\n",
    "                 encoder_filters, \n",
    "                 encoder_kernel_size,\n",
    "                 encoder_strides,\n",
    "                 decoder_filters,\n",
    "                 decoder_kernel_size,\n",
    "                 decoder_strides,\n",
    "                 z_dim,\n",
    "                use_batchnorm,\n",
    "                use_dropout):\n",
    "        \n",
    "        self.input_shape = input_shape\n",
    "        self.encoder_filters = encoder_filters\n",
    "        self.encoder_kernel_size = encoder_kernel_size\n",
    "        self.encoder_strides = encoder_strides\n",
    "        self.decoder_filters = decoder_filters\n",
    "        self.decoder_kernel_size = decoder_kernel_size\n",
    "        self.decoder_strides = decoder_strides\n",
    "        self.use_batchnorm = use_batchnorm\n",
    "        self.use_dropout = use_dropout\n",
    "        self.z_dim = z_dim\n",
    "        self._build()\n",
    "        \n",
    "    def _build(self):\n",
    "        #encoder\n",
    "        encoder_input = Input(shape=self.input_shape, name='encoder_input')\n",
    "        x = encoder_input\n",
    "        for i in range(len(self.encoder_filters)):\n",
    "            x = Conv2D(self.encoder_filters[i], \n",
    "                      kernel_size=self.encoder_kernel_size[i],\n",
    "                      strides=self.encoder_strides[i],\n",
    "                      padding='same')(x)\n",
    "            if self.use_batchnorm:\n",
    "                x = BatchNormalization()(x)    \n",
    "            x = LeakyReLU()(x)\n",
    "            if self.use_dropout:\n",
    "                x = Dropout(rate=0.5)(x)\n",
    "        encoder_output_shape = K.int_shape(x)[1:]\n",
    "        x = Flatten()(x)\n",
    "        encoder_output = Dense(self.z_dim)(x)\n",
    "        \n",
    "        self.encoder = Model(encoder_input, encoder_output)\n",
    "        \n",
    "        decoder_input = Input(shape=(self.z_dim,))\n",
    "        x = decoder_input\n",
    "        x = Dense(np.prod(encoder_output_shape))(x)\n",
    "        x = Reshape(encoder_output_shape)(x)\n",
    "        for i in range(len(self.decoder_filters)):\n",
    "            x = Conv2DTranspose(self.decoder_filters[i],\n",
    "                               kernel_size=self.decoder_kernel_size[i],\n",
    "                               strides=self.decoder_strides[i],\n",
    "                               padding='same')(x)\n",
    "            \n",
    "            if i<len(self.decoder_filters)-1:\n",
    "                if self.use_batchnorm:\n",
    "                    x = BatchNormalization()(x)\n",
    "                x = LeakyReLU()(x)\n",
    "\n",
    "                if self.use_dropout:\n",
    "                    x = Dropout(rate=0.5)(x)\n",
    "            else:\n",
    "                x = Activation('sigmoid')(x)\n",
    "        decoder_output = x\n",
    "        self.decoder = Model(decoder_input, decoder_output)\n",
    "        model_input = encoder_input\n",
    "        #connect the encoder and decoder.. the output of decoder will be the output of the whole model\n",
    "        model_output = self.decoder(encoder_output)\n",
    "        self.model = Model(model_input, model_output)\n",
    "        \n",
    "    def compile(self, learning_rate):\n",
    "        optimizer = Adam(learning_rate)\n",
    "        def r_loss(y_true, y_pred):\n",
    "            return K.mean(K.square(y_true - y_pred), axis=[1,2,3])\n",
    "        self.model.compile(loss=r_loss, optimizer=optimizer, metrics=['accuracy'])\n",
    "        #self.model.compile(loss='binary_crossentropy', optimizer=optimizer, metrics=['accuracy'])\n",
    "        \n",
    "    def train(self, x_train, y_train, epochs, batch_size):\n",
    "        self.model.fit(x_train, y_train, epochs=epochs, shuffle=True, batch_size=batch_size)\n",
    "        \n",
    "    def plot_model(self, store_dir='.'):\n",
    "        plot_model(self.model,  to_file=os.path.join(store_dir ,'viz/model.png'), show_shapes = True, show_layer_names = True)\n",
    "        plot_model(self.encoder,  to_file=os.path.join(store_dir ,'viz/encoder.png'), show_shapes = True, show_layer_names = True)\n",
    "        plot_model(self.decoder,  to_file=os.path.join(store_dir ,'viz/decoder.png'), show_shapes = True, show_layer_names = True)"
   ]
  },
  {
   "cell_type": "code",
   "execution_count": 5,
   "metadata": {},
   "outputs": [
    {
     "data": {
      "text/plain": [
       "(60000, 28, 28, 1)"
      ]
     },
     "execution_count": 5,
     "metadata": {},
     "output_type": "execute_result"
    }
   ],
   "source": [
    "x_train.shape"
   ]
  },
  {
   "cell_type": "code",
   "execution_count": 6,
   "metadata": {},
   "outputs": [
    {
     "name": "stderr",
     "output_type": "stream",
     "text": [
      "WARNING: Logging before flag parsing goes to stderr.\n",
      "W1102 19:40:09.494746 140303171913536 deprecation.py:506] From /home/poornav/anaconda3/envs/generative/lib/python3.6/site-packages/tensorflow/python/ops/init_ops.py:1251: calling VarianceScaling.__init__ (from tensorflow.python.ops.init_ops) with dtype is deprecated and will be removed in a future version.\n",
      "Instructions for updating:\n",
      "Call initializer instance with the dtype argument instead of passing it to the constructor\n"
     ]
    }
   ],
   "source": [
    "auto_encoder = AutoEncoder(input_shape=x_train.shape[1:],\n",
    "                 encoder_filters=[32, 32, 64, 64], \n",
    "                 encoder_kernel_size = [3, 3, 3, 3],\n",
    "                 encoder_strides=[1, 2, 2, 1],\n",
    "                 decoder_filters=[64, 32, 32, 1],\n",
    "                 decoder_kernel_size=[3, 3, 3, 3],\n",
    "                 decoder_strides=[1, 2, 2, 1],\n",
    "                 z_dim=20,\n",
    "                use_batchnorm=False,\n",
    "                use_dropout=False)"
   ]
  },
  {
   "cell_type": "code",
   "execution_count": 7,
   "metadata": {},
   "outputs": [
    {
     "name": "stdout",
     "output_type": "stream",
     "text": [
      "Model: \"model\"\n",
      "_________________________________________________________________\n",
      "Layer (type)                 Output Shape              Param #   \n",
      "=================================================================\n",
      "encoder_input (InputLayer)   [(None, 28, 28, 1)]       0         \n",
      "_________________________________________________________________\n",
      "conv2d (Conv2D)              (None, 28, 28, 32)        320       \n",
      "_________________________________________________________________\n",
      "leaky_re_lu (LeakyReLU)      (None, 28, 28, 32)        0         \n",
      "_________________________________________________________________\n",
      "conv2d_1 (Conv2D)            (None, 14, 14, 32)        9248      \n",
      "_________________________________________________________________\n",
      "leaky_re_lu_1 (LeakyReLU)    (None, 14, 14, 32)        0         \n",
      "_________________________________________________________________\n",
      "conv2d_2 (Conv2D)            (None, 7, 7, 64)          18496     \n",
      "_________________________________________________________________\n",
      "leaky_re_lu_2 (LeakyReLU)    (None, 7, 7, 64)          0         \n",
      "_________________________________________________________________\n",
      "conv2d_3 (Conv2D)            (None, 7, 7, 64)          36928     \n",
      "_________________________________________________________________\n",
      "leaky_re_lu_3 (LeakyReLU)    (None, 7, 7, 64)          0         \n",
      "_________________________________________________________________\n",
      "flatten (Flatten)            (None, 3136)              0         \n",
      "_________________________________________________________________\n",
      "dense (Dense)                (None, 20)                62740     \n",
      "=================================================================\n",
      "Total params: 127,732\n",
      "Trainable params: 127,732\n",
      "Non-trainable params: 0\n",
      "_________________________________________________________________\n"
     ]
    }
   ],
   "source": [
    "auto_encoder.encoder.summary()"
   ]
  },
  {
   "cell_type": "code",
   "execution_count": 8,
   "metadata": {},
   "outputs": [
    {
     "name": "stdout",
     "output_type": "stream",
     "text": [
      "Model: \"model_1\"\n",
      "_________________________________________________________________\n",
      "Layer (type)                 Output Shape              Param #   \n",
      "=================================================================\n",
      "input_1 (InputLayer)         [(None, 20)]              0         \n",
      "_________________________________________________________________\n",
      "dense_1 (Dense)              (None, 3136)              65856     \n",
      "_________________________________________________________________\n",
      "reshape (Reshape)            (None, 7, 7, 64)          0         \n",
      "_________________________________________________________________\n",
      "conv2d_transpose (Conv2DTran (None, 7, 7, 64)          36928     \n",
      "_________________________________________________________________\n",
      "leaky_re_lu_4 (LeakyReLU)    (None, 7, 7, 64)          0         \n",
      "_________________________________________________________________\n",
      "conv2d_transpose_1 (Conv2DTr (None, 14, 14, 32)        18464     \n",
      "_________________________________________________________________\n",
      "leaky_re_lu_5 (LeakyReLU)    (None, 14, 14, 32)        0         \n",
      "_________________________________________________________________\n",
      "conv2d_transpose_2 (Conv2DTr (None, 28, 28, 32)        9248      \n",
      "_________________________________________________________________\n",
      "leaky_re_lu_6 (LeakyReLU)    (None, 28, 28, 32)        0         \n",
      "_________________________________________________________________\n",
      "conv2d_transpose_3 (Conv2DTr (None, 28, 28, 1)         289       \n",
      "_________________________________________________________________\n",
      "activation (Activation)      (None, 28, 28, 1)         0         \n",
      "=================================================================\n",
      "Total params: 130,785\n",
      "Trainable params: 130,785\n",
      "Non-trainable params: 0\n",
      "_________________________________________________________________\n"
     ]
    }
   ],
   "source": [
    "auto_encoder.decoder.summary()"
   ]
  },
  {
   "cell_type": "code",
   "execution_count": 9,
   "metadata": {},
   "outputs": [
    {
     "name": "stdout",
     "output_type": "stream",
     "text": [
      "Model: \"model_2\"\n",
      "_________________________________________________________________\n",
      "Layer (type)                 Output Shape              Param #   \n",
      "=================================================================\n",
      "encoder_input (InputLayer)   [(None, 28, 28, 1)]       0         \n",
      "_________________________________________________________________\n",
      "conv2d (Conv2D)              (None, 28, 28, 32)        320       \n",
      "_________________________________________________________________\n",
      "leaky_re_lu (LeakyReLU)      (None, 28, 28, 32)        0         \n",
      "_________________________________________________________________\n",
      "conv2d_1 (Conv2D)            (None, 14, 14, 32)        9248      \n",
      "_________________________________________________________________\n",
      "leaky_re_lu_1 (LeakyReLU)    (None, 14, 14, 32)        0         \n",
      "_________________________________________________________________\n",
      "conv2d_2 (Conv2D)            (None, 7, 7, 64)          18496     \n",
      "_________________________________________________________________\n",
      "leaky_re_lu_2 (LeakyReLU)    (None, 7, 7, 64)          0         \n",
      "_________________________________________________________________\n",
      "conv2d_3 (Conv2D)            (None, 7, 7, 64)          36928     \n",
      "_________________________________________________________________\n",
      "leaky_re_lu_3 (LeakyReLU)    (None, 7, 7, 64)          0         \n",
      "_________________________________________________________________\n",
      "flatten (Flatten)            (None, 3136)              0         \n",
      "_________________________________________________________________\n",
      "dense (Dense)                (None, 20)                62740     \n",
      "_________________________________________________________________\n",
      "model_1 (Model)              (None, 28, 28, 1)         130785    \n",
      "=================================================================\n",
      "Total params: 258,517\n",
      "Trainable params: 258,517\n",
      "Non-trainable params: 0\n",
      "_________________________________________________________________\n"
     ]
    }
   ],
   "source": [
    "auto_encoder.model.summary()"
   ]
  },
  {
   "cell_type": "code",
   "execution_count": 10,
   "metadata": {},
   "outputs": [],
   "source": [
    "auto_encoder.compile(learning_rate=0.001)"
   ]
  },
  {
   "cell_type": "code",
   "execution_count": 11,
   "metadata": {},
   "outputs": [
    {
     "name": "stdout",
     "output_type": "stream",
     "text": [
      "Epoch 1/50\n",
      "60000/60000 [==============================] - 33s 548us/sample - loss: 0.0171 - acc: 0.8114\n",
      "Epoch 2/50\n",
      "60000/60000 [==============================] - 36s 603us/sample - loss: 0.0076 - acc: 0.8144\n",
      "Epoch 3/50\n",
      "60000/60000 [==============================] - 41s 677us/sample - loss: 0.0068 - acc: 0.8146\n",
      "Epoch 4/50\n",
      "60000/60000 [==============================] - 42s 702us/sample - loss: 0.0063 - acc: 0.8147\n",
      "Epoch 5/50\n",
      "60000/60000 [==============================] - 42s 697us/sample - loss: 0.0060 - acc: 0.8148\n",
      "Epoch 6/50\n",
      "60000/60000 [==============================] - 43s 709us/sample - loss: 0.0058 - acc: 0.8148\n",
      "Epoch 7/50\n",
      "60000/60000 [==============================] - 43s 722us/sample - loss: 0.0056 - acc: 0.8149\n",
      "Epoch 8/50\n",
      "60000/60000 [==============================] - 45s 747us/sample - loss: 0.0055 - acc: 0.8149\n",
      "Epoch 9/50\n",
      "60000/60000 [==============================] - 46s 771us/sample - loss: 0.0054 - acc: 0.8149\n",
      "Epoch 10/50\n",
      "60000/60000 [==============================] - 47s 788us/sample - loss: 0.0053 - acc: 0.8150\n",
      "Epoch 11/50\n",
      "60000/60000 [==============================] - 48s 797us/sample - loss: 0.0052 - acc: 0.8150\n",
      "Epoch 12/50\n",
      "60000/60000 [==============================] - 47s 791us/sample - loss: 0.0051 - acc: 0.8150\n",
      "Epoch 13/50\n",
      "60000/60000 [==============================] - 47s 778us/sample - loss: 0.0051 - acc: 0.8150\n",
      "Epoch 14/50\n",
      "60000/60000 [==============================] - 48s 795us/sample - loss: 0.0050 - acc: 0.8150\n",
      "Epoch 15/50\n",
      "60000/60000 [==============================] - 47s 784us/sample - loss: 0.0050 - acc: 0.8150\n",
      "Epoch 16/50\n",
      "60000/60000 [==============================] - 49s 817us/sample - loss: 0.0049 - acc: 0.8150\n",
      "Epoch 17/50\n",
      "60000/60000 [==============================] - 51s 842us/sample - loss: 0.0049 - acc: 0.8151\n",
      "Epoch 18/50\n",
      "60000/60000 [==============================] - 50s 828us/sample - loss: 0.0048 - acc: 0.8151\n",
      "Epoch 19/50\n",
      "60000/60000 [==============================] - 50s 826us/sample - loss: 0.0048 - acc: 0.8151\n",
      "Epoch 20/50\n",
      "60000/60000 [==============================] - 49s 825us/sample - loss: 0.0048 - acc: 0.8151\n",
      "Epoch 21/50\n",
      "60000/60000 [==============================] - 52s 865us/sample - loss: 0.0047 - acc: 0.8151\n",
      "Epoch 22/50\n",
      "60000/60000 [==============================] - 52s 860us/sample - loss: 0.0047 - acc: 0.8151\n",
      "Epoch 23/50\n",
      "60000/60000 [==============================] - 51s 850us/sample - loss: 0.0047 - acc: 0.8151\n",
      "Epoch 24/50\n",
      "60000/60000 [==============================] - 52s 862us/sample - loss: 0.0046 - acc: 0.8151\n",
      "Epoch 25/50\n",
      "60000/60000 [==============================] - 51s 855us/sample - loss: 0.0046 - acc: 0.8151\n",
      "Epoch 26/50\n",
      "60000/60000 [==============================] - 53s 876us/sample - loss: 0.0046 - acc: 0.8151\n",
      "Epoch 27/50\n",
      "60000/60000 [==============================] - 51s 848us/sample - loss: 0.0046 - acc: 0.8151\n",
      "Epoch 28/50\n",
      "60000/60000 [==============================] - 51s 845us/sample - loss: 0.0046 - acc: 0.8151\n",
      "Epoch 29/50\n",
      "60000/60000 [==============================] - 51s 846us/sample - loss: 0.0045 - acc: 0.8151\n",
      "Epoch 30/50\n",
      "60000/60000 [==============================] - 51s 843us/sample - loss: 0.0045 - acc: 0.8151\n",
      "Epoch 31/50\n",
      "60000/60000 [==============================] - 50s 833us/sample - loss: 0.0045 - acc: 0.8151\n",
      "Epoch 32/50\n",
      "60000/60000 [==============================] - 51s 847us/sample - loss: 0.0045 - acc: 0.8151\n",
      "Epoch 33/50\n",
      "60000/60000 [==============================] - 51s 854us/sample - loss: 0.0045 - acc: 0.8151\n",
      "Epoch 34/50\n",
      "60000/60000 [==============================] - 55s 922us/sample - loss: 0.0045 - acc: 0.8151\n",
      "Epoch 35/50\n",
      "60000/60000 [==============================] - 52s 870us/sample - loss: 0.0044 - acc: 0.8151\n",
      "Epoch 36/50\n",
      "60000/60000 [==============================] - 52s 871us/sample - loss: 0.0044 - acc: 0.8151\n",
      "Epoch 37/50\n",
      "60000/60000 [==============================] - 52s 860us/sample - loss: 0.0044 - acc: 0.8151\n",
      "Epoch 38/50\n",
      "60000/60000 [==============================] - 56s 931us/sample - loss: 0.0044 - acc: 0.8151\n",
      "Epoch 39/50\n",
      "60000/60000 [==============================] - 52s 864us/sample - loss: 0.0044 - acc: 0.8151\n",
      "Epoch 40/50\n",
      "60000/60000 [==============================] - 52s 869us/sample - loss: 0.0044 - acc: 0.8152\n",
      "Epoch 41/50\n",
      "60000/60000 [==============================] - 53s 880us/sample - loss: 0.0044 - acc: 0.8151\n",
      "Epoch 42/50\n",
      "60000/60000 [==============================] - 57s 957us/sample - loss: 0.0044 - acc: 0.8152\n",
      "Epoch 43/50\n",
      "60000/60000 [==============================] - 52s 873us/sample - loss: 0.0044 - acc: 0.8152\n",
      "Epoch 44/50\n",
      "60000/60000 [==============================] - 53s 887us/sample - loss: 0.0043 - acc: 0.8152\n",
      "Epoch 45/50\n",
      "60000/60000 [==============================] - 51s 857us/sample - loss: 0.0043 - acc: 0.8152\n",
      "Epoch 46/50\n",
      "60000/60000 [==============================] - 52s 872us/sample - loss: 0.0043 - acc: 0.8152\n",
      "Epoch 47/50\n",
      "60000/60000 [==============================] - 52s 868us/sample - loss: 0.0043 - acc: 0.8152\n",
      "Epoch 48/50\n",
      "60000/60000 [==============================] - 50s 840us/sample - loss: 0.0043 - acc: 0.8152\n",
      "Epoch 49/50\n",
      "60000/60000 [==============================] - 54s 908us/sample - loss: 0.0043 - acc: 0.8152\n",
      "Epoch 50/50\n",
      "60000/60000 [==============================] - 52s 866us/sample - loss: 0.0043 - acc: 0.8152\n"
     ]
    }
   ],
   "source": [
    "auto_encoder.train(x_train, x_train, epochs=50, batch_size=32)"
   ]
  },
  {
   "cell_type": "code",
   "execution_count": 12,
   "metadata": {},
   "outputs": [
    {
     "data": {
      "text/plain": [
       "((60000, 28, 28, 1), (60000, 10))"
      ]
     },
     "execution_count": 12,
     "metadata": {},
     "output_type": "execute_result"
    }
   ],
   "source": [
    "x_train.shape, y_train.shape"
   ]
  },
  {
   "cell_type": "code",
   "execution_count": null,
   "metadata": {},
   "outputs": [],
   "source": []
  },
  {
   "cell_type": "markdown",
   "metadata": {},
   "source": [
    "### Visualize the model performance"
   ]
  },
  {
   "cell_type": "code",
   "execution_count": 114,
   "metadata": {},
   "outputs": [
    {
     "name": "stdout",
     "output_type": "stream",
     "text": [
      "\"dot\" with args ['-Tpng', '/tmp/tmpu4om04tk'] returned code: 1\n",
      "\n",
      "stdout, stderr:\n",
      " b''\n",
      "b'Warning: Could not load \"/home/poornav/anaconda3/envs/generative/lib/graphviz/libgvplugin_pango.so.6\" - file not found\\nWarning: Could not load \"/home/poornav/anaconda3/envs/generative/lib/graphviz/libgvplugin_pango.so.6\" - file not found\\nFormat: \"png\" not recognized. Use one of: canon cmap cmapx cmapx_np dot dot_json eps fig gv imap imap_np ismap json json0 mp pdf pic plain plain-ext png pov ps ps2 svg svgz tk vml vmlz xdot xdot1.2 xdot1.4 xdot_json\\n'\n",
      "\n"
     ]
    },
    {
     "ename": "AssertionError",
     "evalue": "1",
     "output_type": "error",
     "traceback": [
      "\u001b[0;31m---------------------------------------------------------------------------\u001b[0m",
      "\u001b[0;31mAssertionError\u001b[0m                            Traceback (most recent call last)",
      "\u001b[0;32m<ipython-input-114-148ad946cdab>\u001b[0m in \u001b[0;36m<module>\u001b[0;34m\u001b[0m\n\u001b[0;32m----> 1\u001b[0;31m \u001b[0mplot_model\u001b[0m\u001b[0;34m(\u001b[0m\u001b[0mauto_encoder\u001b[0m\u001b[0;34m.\u001b[0m\u001b[0mmodel\u001b[0m\u001b[0;34m,\u001b[0m \u001b[0mto_file\u001b[0m\u001b[0;34m=\u001b[0m\u001b[0;34m'/tmp/model'\u001b[0m\u001b[0;34m)\u001b[0m\u001b[0;34m\u001b[0m\u001b[0;34m\u001b[0m\u001b[0m\n\u001b[0m",
      "\u001b[0;32m~/anaconda3/envs/generative/lib/python3.6/site-packages/tensorflow/python/keras/utils/vis_utils.py\u001b[0m in \u001b[0;36mplot_model\u001b[0;34m(model, to_file, show_shapes, show_layer_names, rankdir)\u001b[0m\n\u001b[1;32m    176\u001b[0m     \u001b[0mextension\u001b[0m \u001b[0;34m=\u001b[0m \u001b[0mextension\u001b[0m\u001b[0;34m[\u001b[0m\u001b[0;36m1\u001b[0m\u001b[0;34m:\u001b[0m\u001b[0;34m]\u001b[0m\u001b[0;34m\u001b[0m\u001b[0;34m\u001b[0m\u001b[0m\n\u001b[1;32m    177\u001b[0m   \u001b[0;31m# Save image to disk.\u001b[0m\u001b[0;34m\u001b[0m\u001b[0;34m\u001b[0m\u001b[0;34m\u001b[0m\u001b[0m\n\u001b[0;32m--> 178\u001b[0;31m   \u001b[0mdot\u001b[0m\u001b[0;34m.\u001b[0m\u001b[0mwrite\u001b[0m\u001b[0;34m(\u001b[0m\u001b[0mto_file\u001b[0m\u001b[0;34m,\u001b[0m \u001b[0mformat\u001b[0m\u001b[0;34m=\u001b[0m\u001b[0mextension\u001b[0m\u001b[0;34m)\u001b[0m\u001b[0;34m\u001b[0m\u001b[0;34m\u001b[0m\u001b[0m\n\u001b[0m\u001b[1;32m    179\u001b[0m   \u001b[0;31m# Return the image as a Jupyter Image object, to be displayed in-line.\u001b[0m\u001b[0;34m\u001b[0m\u001b[0;34m\u001b[0m\u001b[0;34m\u001b[0m\u001b[0m\n\u001b[1;32m    180\u001b[0m   \u001b[0;31m# Note that we cannot easily detect whether the code is running in a\u001b[0m\u001b[0;34m\u001b[0m\u001b[0;34m\u001b[0m\u001b[0;34m\u001b[0m\u001b[0m\n",
      "\u001b[0;32m~/anaconda3/envs/generative/lib/python3.6/site-packages/pydot.py\u001b[0m in \u001b[0;36mwrite\u001b[0;34m(self, path, prog, format, encoding)\u001b[0m\n\u001b[1;32m   1815\u001b[0m                 \u001b[0mf\u001b[0m\u001b[0;34m.\u001b[0m\u001b[0mwrite\u001b[0m\u001b[0;34m(\u001b[0m\u001b[0ms\u001b[0m\u001b[0;34m)\u001b[0m\u001b[0;34m\u001b[0m\u001b[0;34m\u001b[0m\u001b[0m\n\u001b[1;32m   1816\u001b[0m         \u001b[0;32melse\u001b[0m\u001b[0;34m:\u001b[0m\u001b[0;34m\u001b[0m\u001b[0;34m\u001b[0m\u001b[0m\n\u001b[0;32m-> 1817\u001b[0;31m             \u001b[0ms\u001b[0m \u001b[0;34m=\u001b[0m \u001b[0mself\u001b[0m\u001b[0;34m.\u001b[0m\u001b[0mcreate\u001b[0m\u001b[0;34m(\u001b[0m\u001b[0mprog\u001b[0m\u001b[0;34m,\u001b[0m \u001b[0mformat\u001b[0m\u001b[0;34m,\u001b[0m \u001b[0mencoding\u001b[0m\u001b[0;34m=\u001b[0m\u001b[0mencoding\u001b[0m\u001b[0;34m)\u001b[0m\u001b[0;34m\u001b[0m\u001b[0;34m\u001b[0m\u001b[0m\n\u001b[0m\u001b[1;32m   1818\u001b[0m             \u001b[0;32mwith\u001b[0m \u001b[0mio\u001b[0m\u001b[0;34m.\u001b[0m\u001b[0mopen\u001b[0m\u001b[0;34m(\u001b[0m\u001b[0mpath\u001b[0m\u001b[0;34m,\u001b[0m \u001b[0mmode\u001b[0m\u001b[0;34m=\u001b[0m\u001b[0;34m'wb'\u001b[0m\u001b[0;34m)\u001b[0m \u001b[0;32mas\u001b[0m \u001b[0mf\u001b[0m\u001b[0;34m:\u001b[0m\u001b[0;34m\u001b[0m\u001b[0;34m\u001b[0m\u001b[0m\n\u001b[1;32m   1819\u001b[0m                 \u001b[0mf\u001b[0m\u001b[0;34m.\u001b[0m\u001b[0mwrite\u001b[0m\u001b[0;34m(\u001b[0m\u001b[0ms\u001b[0m\u001b[0;34m)\u001b[0m\u001b[0;34m\u001b[0m\u001b[0;34m\u001b[0m\u001b[0m\n",
      "\u001b[0;32m~/anaconda3/envs/generative/lib/python3.6/site-packages/pydot.py\u001b[0m in \u001b[0;36mcreate\u001b[0;34m(self, prog, format, encoding)\u001b[0m\n\u001b[1;32m   1943\u001b[0m             \u001b[0mprint\u001b[0m\u001b[0;34m(\u001b[0m\u001b[0mmessage\u001b[0m\u001b[0;34m)\u001b[0m\u001b[0;34m\u001b[0m\u001b[0;34m\u001b[0m\u001b[0m\n\u001b[1;32m   1944\u001b[0m \u001b[0;34m\u001b[0m\u001b[0m\n\u001b[0;32m-> 1945\u001b[0;31m         \u001b[0;32massert\u001b[0m \u001b[0mprocess\u001b[0m\u001b[0;34m.\u001b[0m\u001b[0mreturncode\u001b[0m \u001b[0;34m==\u001b[0m \u001b[0;36m0\u001b[0m\u001b[0;34m,\u001b[0m \u001b[0mprocess\u001b[0m\u001b[0;34m.\u001b[0m\u001b[0mreturncode\u001b[0m\u001b[0;34m\u001b[0m\u001b[0;34m\u001b[0m\u001b[0m\n\u001b[0m\u001b[1;32m   1946\u001b[0m \u001b[0;34m\u001b[0m\u001b[0m\n\u001b[1;32m   1947\u001b[0m         \u001b[0;32mreturn\u001b[0m \u001b[0mstdout_data\u001b[0m\u001b[0;34m\u001b[0m\u001b[0;34m\u001b[0m\u001b[0m\n",
      "\u001b[0;31mAssertionError\u001b[0m: 1"
     ]
    }
   ],
   "source": [
    "plot_model(auto_encoder.model, to_file='/tmp/model')"
   ]
  },
  {
   "cell_type": "markdown",
   "metadata": {},
   "source": [
    "### Analysis of the autoencoder"
   ]
  },
  {
   "cell_type": "code",
   "execution_count": 13,
   "metadata": {},
   "outputs": [
    {
     "data": {
      "image/png": "[encoded data removed]",
      "text/plain": [
       "<Figure size 1080x216 with 20 Axes>"
      ]
     },
     "metadata": {
      "needs_background": "light"
     },
     "output_type": "display_data"
    }
   ],
   "source": [
    "#reconstruct inputs from test set\n",
    "n_to_show = 10\n",
    "example_idx = np.random.choice(range(len(x_test)), n_to_show)\n",
    "example_images = x_test[example_idx]\n",
    "\n",
    "z_points = auto_encoder.encoder.predict(example_images)\n",
    "\n",
    "reconst_images = auto_encoder.decoder.predict(z_points)\n",
    "\n",
    "fig = plt.figure(figsize=(15, 3))\n",
    "fig.subplots_adjust(hspace=0.4, wspace=0.4)\n",
    "\n",
    "for i in range(n_to_show):\n",
    "    img = example_images[i].squeeze()\n",
    "    ax = fig.add_subplot(2, n_to_show, i+1)\n",
    "    ax.axis('off')\n",
    "    ax.text(0.5, -0.35, str(np.round(z_points[i],1)), fontsize=10, ha='center', transform=ax.transAxes)   \n",
    "    ax.imshow(img, cmap='gray_r')\n",
    "\n",
    "for i in range(n_to_show):\n",
    "    img = reconst_images[i].squeeze()\n",
    "    ax = fig.add_subplot(2, n_to_show, i+n_to_show+1)\n",
    "    ax.axis('off')\n",
    "    ax.imshow(img, cmap='gray_r')\n"
   ]
  },
  {
   "cell_type": "code",
   "execution_count": null,
   "metadata": {},
   "outputs": [],
   "source": []
  }
 ],
 "metadata": {
  "kernelspec": {
   "display_name": "generative",
   "language": "python",
   "name": "generative"
  },
  "language_info": {
   "codemirror_mode": {
    "name": "ipython",
    "version": 3
   },
   "file_extension": ".py",
   "mimetype": "text/x-python",
   "name": "python",
   "nbconvert_exporter": "python",
   "pygments_lexer": "ipython3",
   "version": "3.6.9"
  }
 },
 "nbformat": 4,
 "nbformat_minor": 2
}
